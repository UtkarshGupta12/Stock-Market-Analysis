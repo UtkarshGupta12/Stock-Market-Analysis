{
  "nbformat": 4,
  "nbformat_minor": 0,
  "metadata": {
    "colab": {
      "name": "Stock_Market_Analysis.ipynb",
      "version": "0.3.2",
      "provenance": [],
      "collapsed_sections": [
        "1Zsp5Ru1UmAr",
        "Giw88WTkzso5",
        "M1dC8VHM09S9",
        "7RYGJKoL3SQQ",
        "HFGe3drp5wb1",
        "4lxsYHHo-CD4",
        "yI8NIHIrGzBo",
        "efT0gvB_jE3V",
        "tDzymRQXkqsX",
        "jKCojpIflhJH",
        "R8vwjZNDlwcU"
      ]
    },
    "kernelspec": {
      "name": "python3",
      "display_name": "Python 3"
    },
    "accelerator": "GPU"
  },
  "cells": [
    {
      "cell_type": "markdown",
      "metadata": {
        "id": "3NE235-3Mz0G",
        "colab_type": "text"
      },
      "source": [
        " # **STOCK MARKET ANALYSIS AND PREDICTION**\n",
        "\n",
        "---\n",
        "\n",
        "\n",
        ">## WHAT IS A STOCK MARKET ?\n",
        "* It is a place where shares of pubic listed companies are traded. The primary market is where companies float shares to the general public in an initial public offering (IPO) to raise capital.\n",
        "\n",
        "\n",
        "\n",
        ">##  HOW DOES A STOCK MARKET WORKS ?\n",
        "\n",
        "\n",
        "*   The stock market works like an auction where investors who buy and sell shares of stocks. These are a small piece of ownership of a public corporation. Stock prices usually reflect investors' opinions of what the company's earnings will be.\n",
        "\n",
        "\n",
        "*   Traders who think the company will do well bid the price up, while those who believe it will do poorly bid the price down. Sellers try to get as much as possible for each share, hopefully making much more than what they paid for it. Buyers try to get the lowest price so that they can sell it for a profit later.\n",
        "\n",
        ">## ABOUT THIS FILE \n",
        "\n",
        "\n",
        "*   Past 5 years data of the Stock Exchange of 6 major MNC's such as Apple and Tesla along with 7554 observations.\n",
        "\n",
        "> ## COLUMNS DESCRIPTIONS \n",
        "\n",
        "\n",
        "\n",
        "\n",
        "1.   Date - Date of the observation of stocks.\n",
        "2.   Open - The opening amout of the stocks of the company that day.\n",
        "3.  High - The highest amount the stock value goes in that particular day.\n",
        "4.   Low - The lowest amount the stock value goes in that particular day.\n",
        "5.   Close  - The closing amount of the stock value of the particular company that day.\n",
        "6. Adj Close - The adjusted closing price (The price at which the last share lot (100 shares) traded before the                                      market closed.)\n",
        "7.   Volume - The number of shares that changed hands during a given day.\n",
        "8.   Name - Name of the company .\n",
        "\n",
        "\n",
        "\n",
        "> ## NAME DESCRIPTION\n",
        "\n",
        "\n",
        "\n",
        "1.   AMZN - Amazon\n",
        "2.   APPL - Apple\n",
        "3. FB - Facebook\n",
        "4. GOOG - Google\n",
        "5. NFLX - Netflix\n",
        "6. TSLA - Tesla \n",
        "\n",
        "\n",
        "\n",
        "\n"
      ]
    },
    {
      "cell_type": "markdown",
      "metadata": {
        "id": "1Zsp5Ru1UmAr",
        "colab_type": "text"
      },
      "source": [
        "#DATA DESCRIPTION \n",
        "\n",
        "---\n",
        "\n"
      ]
    },
    {
      "cell_type": "code",
      "metadata": {
        "id": "-_M2XkLJUuUu",
        "colab_type": "code",
        "outputId": "3a918ce2-d58c-407d-84cf-4233393eb713",
        "colab": {
          "base_uri": "https://localhost:8080/",
          "height": 195
        }
      },
      "source": [
        "import pandas as pd \n",
        "import numpy as np \n",
        "import seaborn as sns\n",
        "import matplotlib.pyplot as plt\n",
        "import datetime\n",
        "df = pd.read_csv(\"https://raw.githubusercontent.com/UtkarshGupta12/Stock-Market-Analysis/master/Stock_Market_CSV.csv\")\n",
        "df_apple = pd.read_csv(\"https://raw.githubusercontent.com/UtkarshGupta12/Stock-Market-Analysis/master/AAPL.csv\")\n",
        "df_amazon = pd.read_csv(\"https://raw.githubusercontent.com/UtkarshGupta12/Stock-Market-Analysis/master/AMZN.csv\")\n",
        "df_facebook = pd.read_csv(\"https://raw.githubusercontent.com/UtkarshGupta12/Stock-Market-Analysis/master/FB.csv\")\n",
        "df_google = pd.read_csv(\"https://raw.githubusercontent.com/UtkarshGupta12/Stock-Market-Analysis/master/GOOG.csv\")\n",
        "df_netflix = pd.read_csv(\"https://raw.githubusercontent.com/UtkarshGupta12/Stock-Market-Analysis/master/NFLX.csv\")\n",
        "df_tesla = pd.read_csv(\"https://raw.githubusercontent.com/UtkarshGupta12/Stock-Market-Analysis/master/TSLA.csv\")\n",
        "df.head()"
      ],
      "execution_count": 84,
      "outputs": [
        {
          "output_type": "execute_result",
          "data": {
            "text/html": [
              "<div>\n",
              "<style scoped>\n",
              "    .dataframe tbody tr th:only-of-type {\n",
              "        vertical-align: middle;\n",
              "    }\n",
              "\n",
              "    .dataframe tbody tr th {\n",
              "        vertical-align: top;\n",
              "    }\n",
              "\n",
              "    .dataframe thead th {\n",
              "        text-align: right;\n",
              "    }\n",
              "</style>\n",
              "<table border=\"1\" class=\"dataframe\">\n",
              "  <thead>\n",
              "    <tr style=\"text-align: right;\">\n",
              "      <th></th>\n",
              "      <th>Date</th>\n",
              "      <th>Open</th>\n",
              "      <th>High</th>\n",
              "      <th>Low</th>\n",
              "      <th>Close</th>\n",
              "      <th>Adj Close</th>\n",
              "      <th>Volume</th>\n",
              "      <th>Name</th>\n",
              "    </tr>\n",
              "  </thead>\n",
              "  <tbody>\n",
              "    <tr>\n",
              "      <th>0</th>\n",
              "      <td>21-06-2019</td>\n",
              "      <td>198.800003</td>\n",
              "      <td>200.850006</td>\n",
              "      <td>198.149994</td>\n",
              "      <td>198.779999</td>\n",
              "      <td>198.779999</td>\n",
              "      <td>47735300</td>\n",
              "      <td>AAPL</td>\n",
              "    </tr>\n",
              "    <tr>\n",
              "      <th>1</th>\n",
              "      <td>21-06-2019</td>\n",
              "      <td>1916.099976</td>\n",
              "      <td>1925.949951</td>\n",
              "      <td>1907.579956</td>\n",
              "      <td>1911.300049</td>\n",
              "      <td>1911.300049</td>\n",
              "      <td>3920300</td>\n",
              "      <td>AMZN</td>\n",
              "    </tr>\n",
              "    <tr>\n",
              "      <th>2</th>\n",
              "      <td>21-06-2019</td>\n",
              "      <td>188.750000</td>\n",
              "      <td>192.000000</td>\n",
              "      <td>188.750000</td>\n",
              "      <td>191.139999</td>\n",
              "      <td>191.139999</td>\n",
              "      <td>22663200</td>\n",
              "      <td>FB</td>\n",
              "    </tr>\n",
              "    <tr>\n",
              "      <th>3</th>\n",
              "      <td>21-06-2019</td>\n",
              "      <td>1109.239990</td>\n",
              "      <td>1124.109985</td>\n",
              "      <td>1108.079956</td>\n",
              "      <td>1121.880005</td>\n",
              "      <td>1121.880005</td>\n",
              "      <td>1930100</td>\n",
              "      <td>GOOG</td>\n",
              "    </tr>\n",
              "    <tr>\n",
              "      <th>4</th>\n",
              "      <td>21-06-2019</td>\n",
              "      <td>365.000000</td>\n",
              "      <td>371.450012</td>\n",
              "      <td>365.000000</td>\n",
              "      <td>369.209991</td>\n",
              "      <td>369.209991</td>\n",
              "      <td>7441100</td>\n",
              "      <td>NFLX</td>\n",
              "    </tr>\n",
              "  </tbody>\n",
              "</table>\n",
              "</div>"
            ],
            "text/plain": [
              "         Date         Open         High  ...    Adj Close    Volume  Name\n",
              "0  21-06-2019   198.800003   200.850006  ...   198.779999  47735300  AAPL\n",
              "1  21-06-2019  1916.099976  1925.949951  ...  1911.300049   3920300  AMZN\n",
              "2  21-06-2019   188.750000   192.000000  ...   191.139999  22663200    FB\n",
              "3  21-06-2019  1109.239990  1124.109985  ...  1121.880005   1930100  GOOG\n",
              "4  21-06-2019   365.000000   371.450012  ...   369.209991   7441100  NFLX\n",
              "\n",
              "[5 rows x 8 columns]"
            ]
          },
          "metadata": {
            "tags": []
          },
          "execution_count": 84
        }
      ]
    },
    {
      "cell_type": "code",
      "metadata": {
        "id": "x1PPr_xEWhHB",
        "colab_type": "code",
        "outputId": "7df197ee-fb17-41f2-a1d9-219800f198e8",
        "colab": {
          "base_uri": "https://localhost:8080/",
          "height": 34
        }
      },
      "source": [
        "df.shape"
      ],
      "execution_count": 85,
      "outputs": [
        {
          "output_type": "execute_result",
          "data": {
            "text/plain": [
              "(7554, 8)"
            ]
          },
          "metadata": {
            "tags": []
          },
          "execution_count": 85
        }
      ]
    },
    {
      "cell_type": "code",
      "metadata": {
        "id": "LYVCuwBCW98i",
        "colab_type": "code",
        "outputId": "49dcaa4c-1cbe-4104-a9f6-dc352e73e94d",
        "colab": {
          "base_uri": "https://localhost:8080/",
          "height": 373
        }
      },
      "source": [
        "df.describe(include='all')"
      ],
      "execution_count": 86,
      "outputs": [
        {
          "output_type": "execute_result",
          "data": {
            "text/html": [
              "<div>\n",
              "<style scoped>\n",
              "    .dataframe tbody tr th:only-of-type {\n",
              "        vertical-align: middle;\n",
              "    }\n",
              "\n",
              "    .dataframe tbody tr th {\n",
              "        vertical-align: top;\n",
              "    }\n",
              "\n",
              "    .dataframe thead th {\n",
              "        text-align: right;\n",
              "    }\n",
              "</style>\n",
              "<table border=\"1\" class=\"dataframe\">\n",
              "  <thead>\n",
              "    <tr style=\"text-align: right;\">\n",
              "      <th></th>\n",
              "      <th>Date</th>\n",
              "      <th>Open</th>\n",
              "      <th>High</th>\n",
              "      <th>Low</th>\n",
              "      <th>Close</th>\n",
              "      <th>Adj Close</th>\n",
              "      <th>Volume</th>\n",
              "      <th>Name</th>\n",
              "    </tr>\n",
              "  </thead>\n",
              "  <tbody>\n",
              "    <tr>\n",
              "      <th>count</th>\n",
              "      <td>7554</td>\n",
              "      <td>7554.000000</td>\n",
              "      <td>7554.000000</td>\n",
              "      <td>7554.000000</td>\n",
              "      <td>7554.000000</td>\n",
              "      <td>7554.000000</td>\n",
              "      <td>7.554000e+03</td>\n",
              "      <td>7554</td>\n",
              "    </tr>\n",
              "    <tr>\n",
              "      <th>unique</th>\n",
              "      <td>1259</td>\n",
              "      <td>NaN</td>\n",
              "      <td>NaN</td>\n",
              "      <td>NaN</td>\n",
              "      <td>NaN</td>\n",
              "      <td>NaN</td>\n",
              "      <td>NaN</td>\n",
              "      <td>6</td>\n",
              "    </tr>\n",
              "    <tr>\n",
              "      <th>top</th>\n",
              "      <td>08-08-2016</td>\n",
              "      <td>NaN</td>\n",
              "      <td>NaN</td>\n",
              "      <td>NaN</td>\n",
              "      <td>NaN</td>\n",
              "      <td>NaN</td>\n",
              "      <td>NaN</td>\n",
              "      <td>NFLX</td>\n",
              "    </tr>\n",
              "    <tr>\n",
              "      <th>freq</th>\n",
              "      <td>6</td>\n",
              "      <td>NaN</td>\n",
              "      <td>NaN</td>\n",
              "      <td>NaN</td>\n",
              "      <td>NaN</td>\n",
              "      <td>NaN</td>\n",
              "      <td>NaN</td>\n",
              "      <td>1259</td>\n",
              "    </tr>\n",
              "    <tr>\n",
              "      <th>mean</th>\n",
              "      <td>NaN</td>\n",
              "      <td>418.378479</td>\n",
              "      <td>422.680101</td>\n",
              "      <td>413.685674</td>\n",
              "      <td>418.366133</td>\n",
              "      <td>417.538547</td>\n",
              "      <td>1.445165e+07</td>\n",
              "      <td>NaN</td>\n",
              "    </tr>\n",
              "    <tr>\n",
              "      <th>std</th>\n",
              "      <td>NaN</td>\n",
              "      <td>418.833037</td>\n",
              "      <td>422.585437</td>\n",
              "      <td>414.429644</td>\n",
              "      <td>418.682891</td>\n",
              "      <td>419.261997</td>\n",
              "      <td>1.697174e+07</td>\n",
              "      <td>NaN</td>\n",
              "    </tr>\n",
              "    <tr>\n",
              "      <th>min</th>\n",
              "      <td>NaN</td>\n",
              "      <td>45.375713</td>\n",
              "      <td>46.785713</td>\n",
              "      <td>45.077145</td>\n",
              "      <td>45.205715</td>\n",
              "      <td>45.205715</td>\n",
              "      <td>5.272000e+05</td>\n",
              "      <td>NaN</td>\n",
              "    </tr>\n",
              "    <tr>\n",
              "      <th>25%</th>\n",
              "      <td>NaN</td>\n",
              "      <td>128.482498</td>\n",
              "      <td>129.475002</td>\n",
              "      <td>127.462498</td>\n",
              "      <td>128.642498</td>\n",
              "      <td>126.132502</td>\n",
              "      <td>3.091525e+06</td>\n",
              "      <td>NaN</td>\n",
              "    </tr>\n",
              "    <tr>\n",
              "      <th>50%</th>\n",
              "      <td>NaN</td>\n",
              "      <td>225.325004</td>\n",
              "      <td>228.490005</td>\n",
              "      <td>221.399994</td>\n",
              "      <td>225.004998</td>\n",
              "      <td>224.760002</td>\n",
              "      <td>7.083000e+06</td>\n",
              "      <td>NaN</td>\n",
              "    </tr>\n",
              "    <tr>\n",
              "      <th>75%</th>\n",
              "      <td>NaN</td>\n",
              "      <td>580.746719</td>\n",
              "      <td>584.541794</td>\n",
              "      <td>576.480133</td>\n",
              "      <td>581.472748</td>\n",
              "      <td>581.472748</td>\n",
              "      <td>2.075045e+07</td>\n",
              "      <td>NaN</td>\n",
              "    </tr>\n",
              "    <tr>\n",
              "      <th>max</th>\n",
              "      <td>NaN</td>\n",
              "      <td>2038.109985</td>\n",
              "      <td>2050.500000</td>\n",
              "      <td>2013.000000</td>\n",
              "      <td>2039.510010</td>\n",
              "      <td>2039.510010</td>\n",
              "      <td>1.898463e+08</td>\n",
              "      <td>NaN</td>\n",
              "    </tr>\n",
              "  </tbody>\n",
              "</table>\n",
              "</div>"
            ],
            "text/plain": [
              "              Date         Open         High  ...    Adj Close        Volume  Name\n",
              "count         7554  7554.000000  7554.000000  ...  7554.000000  7.554000e+03  7554\n",
              "unique        1259          NaN          NaN  ...          NaN           NaN     6\n",
              "top     08-08-2016          NaN          NaN  ...          NaN           NaN  NFLX\n",
              "freq             6          NaN          NaN  ...          NaN           NaN  1259\n",
              "mean           NaN   418.378479   422.680101  ...   417.538547  1.445165e+07   NaN\n",
              "std            NaN   418.833037   422.585437  ...   419.261997  1.697174e+07   NaN\n",
              "min            NaN    45.375713    46.785713  ...    45.205715  5.272000e+05   NaN\n",
              "25%            NaN   128.482498   129.475002  ...   126.132502  3.091525e+06   NaN\n",
              "50%            NaN   225.325004   228.490005  ...   224.760002  7.083000e+06   NaN\n",
              "75%            NaN   580.746719   584.541794  ...   581.472748  2.075045e+07   NaN\n",
              "max            NaN  2038.109985  2050.500000  ...  2039.510010  1.898463e+08   NaN\n",
              "\n",
              "[11 rows x 8 columns]"
            ]
          },
          "metadata": {
            "tags": []
          },
          "execution_count": 86
        }
      ]
    },
    {
      "cell_type": "markdown",
      "metadata": {
        "id": "HLaL8WzbXl0M",
        "colab_type": "text"
      },
      "source": [
        "The describe function won't help us much because the data is enormously distributed over different companies having different market value .\n",
        "\n",
        "So we have to group them on the basis of their name.\n",
        "\n",
        "\n",
        "\n"
      ]
    },
    {
      "cell_type": "markdown",
      "metadata": {
        "id": "Giw88WTkzso5",
        "colab_type": "text"
      },
      "source": [
        ">### **BASED ON 'OPEN' CATEGORY**"
      ]
    },
    {
      "cell_type": "code",
      "metadata": {
        "id": "x0ZgA57_YtRU",
        "colab_type": "code",
        "outputId": "cfdab00d-7398-4a9b-8a95-b646861e1100",
        "colab": {
          "base_uri": "https://localhost:8080/",
          "height": 0
        }
      },
      "source": [
        "df.groupby('Name').Open.describe(include='all').sort_values(by='mean',ascending=False)"
      ],
      "execution_count": 87,
      "outputs": [
        {
          "output_type": "execute_result",
          "data": {
            "text/html": [
              "<div>\n",
              "<style scoped>\n",
              "    .dataframe tbody tr th:only-of-type {\n",
              "        vertical-align: middle;\n",
              "    }\n",
              "\n",
              "    .dataframe tbody tr th {\n",
              "        vertical-align: top;\n",
              "    }\n",
              "\n",
              "    .dataframe thead th {\n",
              "        text-align: right;\n",
              "    }\n",
              "</style>\n",
              "<table border=\"1\" class=\"dataframe\">\n",
              "  <thead>\n",
              "    <tr style=\"text-align: right;\">\n",
              "      <th></th>\n",
              "      <th>count</th>\n",
              "      <th>mean</th>\n",
              "      <th>std</th>\n",
              "      <th>min</th>\n",
              "      <th>25%</th>\n",
              "      <th>50%</th>\n",
              "      <th>75%</th>\n",
              "      <th>max</th>\n",
              "    </tr>\n",
              "    <tr>\n",
              "      <th>Name</th>\n",
              "      <th></th>\n",
              "      <th></th>\n",
              "      <th></th>\n",
              "      <th></th>\n",
              "      <th></th>\n",
              "      <th></th>\n",
              "      <th></th>\n",
              "      <th></th>\n",
              "    </tr>\n",
              "  </thead>\n",
              "  <tbody>\n",
              "    <tr>\n",
              "      <th>AMZN</th>\n",
              "      <td>1259.0</td>\n",
              "      <td>956.966195</td>\n",
              "      <td>522.138819</td>\n",
              "      <td>284.399994</td>\n",
              "      <td>529.360015</td>\n",
              "      <td>809.799988</td>\n",
              "      <td>1471.224976</td>\n",
              "      <td>2038.109985</td>\n",
              "    </tr>\n",
              "    <tr>\n",
              "      <th>GOOG</th>\n",
              "      <td>1259.0</td>\n",
              "      <td>841.835482</td>\n",
              "      <td>224.747308</td>\n",
              "      <td>491.942810</td>\n",
              "      <td>644.075012</td>\n",
              "      <td>795.260010</td>\n",
              "      <td>1051.570007</td>\n",
              "      <td>1274.000000</td>\n",
              "    </tr>\n",
              "    <tr>\n",
              "      <th>TSLA</th>\n",
              "      <td>1259.0</td>\n",
              "      <td>264.974631</td>\n",
              "      <td>53.527887</td>\n",
              "      <td>142.320007</td>\n",
              "      <td>220.574997</td>\n",
              "      <td>254.179993</td>\n",
              "      <td>311.134995</td>\n",
              "      <td>386.690002</td>\n",
              "    </tr>\n",
              "    <tr>\n",
              "      <th>NFLX</th>\n",
              "      <td>1259.0</td>\n",
              "      <td>175.162618</td>\n",
              "      <td>108.662759</td>\n",
              "      <td>45.375713</td>\n",
              "      <td>94.369999</td>\n",
              "      <td>126.519997</td>\n",
              "      <td>276.285004</td>\n",
              "      <td>421.380005</td>\n",
              "    </tr>\n",
              "    <tr>\n",
              "      <th>AAPL</th>\n",
              "      <td>1259.0</td>\n",
              "      <td>140.763304</td>\n",
              "      <td>36.407121</td>\n",
              "      <td>90.000000</td>\n",
              "      <td>110.160000</td>\n",
              "      <td>128.860001</td>\n",
              "      <td>171.319999</td>\n",
              "      <td>230.779999</td>\n",
              "    </tr>\n",
              "    <tr>\n",
              "      <th>FB</th>\n",
              "      <td>1259.0</td>\n",
              "      <td>130.568642</td>\n",
              "      <td>39.183941</td>\n",
              "      <td>63.310001</td>\n",
              "      <td>94.080002</td>\n",
              "      <td>128.649994</td>\n",
              "      <td>167.840004</td>\n",
              "      <td>215.720001</td>\n",
              "    </tr>\n",
              "  </tbody>\n",
              "</table>\n",
              "</div>"
            ],
            "text/plain": [
              "       count        mean         std  ...         50%          75%          max\n",
              "Name                                  ...                                      \n",
              "AMZN  1259.0  956.966195  522.138819  ...  809.799988  1471.224976  2038.109985\n",
              "GOOG  1259.0  841.835482  224.747308  ...  795.260010  1051.570007  1274.000000\n",
              "TSLA  1259.0  264.974631   53.527887  ...  254.179993   311.134995   386.690002\n",
              "NFLX  1259.0  175.162618  108.662759  ...  126.519997   276.285004   421.380005\n",
              "AAPL  1259.0  140.763304   36.407121  ...  128.860001   171.319999   230.779999\n",
              "FB    1259.0  130.568642   39.183941  ...  128.649994   167.840004   215.720001\n",
              "\n",
              "[6 rows x 8 columns]"
            ]
          },
          "metadata": {
            "tags": []
          },
          "execution_count": 87
        }
      ]
    },
    {
      "cell_type": "markdown",
      "metadata": {
        "id": "FD9wsUPnz5kz",
        "colab_type": "text"
      },
      "source": [
        "\n",
        "\n",
        "> We can observe that Amazon has the highest opening stock price mean as well as the maximum opening stock price in all 6 companies.\n",
        "\n",
        "\n"
      ]
    },
    {
      "cell_type": "markdown",
      "metadata": {
        "id": "M1dC8VHM09S9",
        "colab_type": "text"
      },
      "source": [
        ">### **BASED ON 'CLOSE' CATEGORY**"
      ]
    },
    {
      "cell_type": "code",
      "metadata": {
        "id": "TlG07ucWzeTm",
        "colab_type": "code",
        "colab": {
          "base_uri": "https://localhost:8080/",
          "height": 0
        },
        "outputId": "a399e533-fd27-468d-cb0a-a48e83053d73"
      },
      "source": [
        "df.groupby('Name').Close.describe(include='all').sort_values(by='mean',ascending=True)"
      ],
      "execution_count": 88,
      "outputs": [
        {
          "output_type": "execute_result",
          "data": {
            "text/html": [
              "<div>\n",
              "<style scoped>\n",
              "    .dataframe tbody tr th:only-of-type {\n",
              "        vertical-align: middle;\n",
              "    }\n",
              "\n",
              "    .dataframe tbody tr th {\n",
              "        vertical-align: top;\n",
              "    }\n",
              "\n",
              "    .dataframe thead th {\n",
              "        text-align: right;\n",
              "    }\n",
              "</style>\n",
              "<table border=\"1\" class=\"dataframe\">\n",
              "  <thead>\n",
              "    <tr style=\"text-align: right;\">\n",
              "      <th></th>\n",
              "      <th>count</th>\n",
              "      <th>mean</th>\n",
              "      <th>std</th>\n",
              "      <th>min</th>\n",
              "      <th>25%</th>\n",
              "      <th>50%</th>\n",
              "      <th>75%</th>\n",
              "      <th>max</th>\n",
              "    </tr>\n",
              "    <tr>\n",
              "      <th>Name</th>\n",
              "      <th></th>\n",
              "      <th></th>\n",
              "      <th></th>\n",
              "      <th></th>\n",
              "      <th></th>\n",
              "      <th></th>\n",
              "      <th></th>\n",
              "      <th></th>\n",
              "    </tr>\n",
              "  </thead>\n",
              "  <tbody>\n",
              "    <tr>\n",
              "      <th>FB</th>\n",
              "      <td>1259.0</td>\n",
              "      <td>130.628753</td>\n",
              "      <td>39.218384</td>\n",
              "      <td>62.759998</td>\n",
              "      <td>94.319999</td>\n",
              "      <td>128.690002</td>\n",
              "      <td>167.915001</td>\n",
              "      <td>217.500000</td>\n",
              "    </tr>\n",
              "    <tr>\n",
              "      <th>AAPL</th>\n",
              "      <td>1259.0</td>\n",
              "      <td>140.811311</td>\n",
              "      <td>36.438227</td>\n",
              "      <td>90.279999</td>\n",
              "      <td>109.969998</td>\n",
              "      <td>128.770004</td>\n",
              "      <td>171.180001</td>\n",
              "      <td>232.070007</td>\n",
              "    </tr>\n",
              "    <tr>\n",
              "      <th>NFLX</th>\n",
              "      <td>1259.0</td>\n",
              "      <td>175.162516</td>\n",
              "      <td>108.571947</td>\n",
              "      <td>45.205715</td>\n",
              "      <td>94.090713</td>\n",
              "      <td>126.570000</td>\n",
              "      <td>278.330002</td>\n",
              "      <td>418.970001</td>\n",
              "    </tr>\n",
              "    <tr>\n",
              "      <th>TSLA</th>\n",
              "      <td>1259.0</td>\n",
              "      <td>264.973749</td>\n",
              "      <td>53.516068</td>\n",
              "      <td>143.669998</td>\n",
              "      <td>220.015000</td>\n",
              "      <td>254.529999</td>\n",
              "      <td>310.385010</td>\n",
              "      <td>385.000000</td>\n",
              "    </tr>\n",
              "    <tr>\n",
              "      <th>GOOG</th>\n",
              "      <td>1259.0</td>\n",
              "      <td>841.953084</td>\n",
              "      <td>225.018744</td>\n",
              "      <td>489.854309</td>\n",
              "      <td>643.695007</td>\n",
              "      <td>795.349976</td>\n",
              "      <td>1052.019959</td>\n",
              "      <td>1287.579956</td>\n",
              "    </tr>\n",
              "    <tr>\n",
              "      <th>AMZN</th>\n",
              "      <td>1259.0</td>\n",
              "      <td>956.667387</td>\n",
              "      <td>521.585293</td>\n",
              "      <td>286.950012</td>\n",
              "      <td>530.364990</td>\n",
              "      <td>812.500000</td>\n",
              "      <td>1480.470032</td>\n",
              "      <td>2039.510010</td>\n",
              "    </tr>\n",
              "  </tbody>\n",
              "</table>\n",
              "</div>"
            ],
            "text/plain": [
              "       count        mean         std  ...         50%          75%          max\n",
              "Name                                  ...                                      \n",
              "FB    1259.0  130.628753   39.218384  ...  128.690002   167.915001   217.500000\n",
              "AAPL  1259.0  140.811311   36.438227  ...  128.770004   171.180001   232.070007\n",
              "NFLX  1259.0  175.162516  108.571947  ...  126.570000   278.330002   418.970001\n",
              "TSLA  1259.0  264.973749   53.516068  ...  254.529999   310.385010   385.000000\n",
              "GOOG  1259.0  841.953084  225.018744  ...  795.349976  1052.019959  1287.579956\n",
              "AMZN  1259.0  956.667387  521.585293  ...  812.500000  1480.470032  2039.510010\n",
              "\n",
              "[6 rows x 8 columns]"
            ]
          },
          "metadata": {
            "tags": []
          },
          "execution_count": 88
        }
      ]
    },
    {
      "cell_type": "markdown",
      "metadata": {
        "id": "KxkgliDg1J33",
        "colab_type": "text"
      },
      "source": [
        "\n",
        "\n",
        "> We can observe that Facebook has the lowest closing stock price mean  in all 6 companies.\n",
        "\n",
        "\n"
      ]
    },
    {
      "cell_type": "markdown",
      "metadata": {
        "id": "7RYGJKoL3SQQ",
        "colab_type": "text"
      },
      "source": [
        "> ### **BASED ON 'VOLUME' CATEGORY**"
      ]
    },
    {
      "cell_type": "code",
      "metadata": {
        "id": "N158AIHy1ecP",
        "colab_type": "code",
        "colab": {
          "base_uri": "https://localhost:8080/",
          "height": 0
        },
        "outputId": "bb75a33d-278e-4292-a2a2-656e64ffee27"
      },
      "source": [
        "df.groupby('Name').Volume.describe(include='all').sort_values(by='mean',ascending=False)"
      ],
      "execution_count": 89,
      "outputs": [
        {
          "output_type": "execute_result",
          "data": {
            "text/html": [
              "<div>\n",
              "<style scoped>\n",
              "    .dataframe tbody tr th:only-of-type {\n",
              "        vertical-align: middle;\n",
              "    }\n",
              "\n",
              "    .dataframe tbody tr th {\n",
              "        vertical-align: top;\n",
              "    }\n",
              "\n",
              "    .dataframe thead th {\n",
              "        text-align: right;\n",
              "    }\n",
              "</style>\n",
              "<table border=\"1\" class=\"dataframe\">\n",
              "  <thead>\n",
              "    <tr style=\"text-align: right;\">\n",
              "      <th></th>\n",
              "      <th>count</th>\n",
              "      <th>mean</th>\n",
              "      <th>std</th>\n",
              "      <th>min</th>\n",
              "      <th>25%</th>\n",
              "      <th>50%</th>\n",
              "      <th>75%</th>\n",
              "      <th>max</th>\n",
              "    </tr>\n",
              "    <tr>\n",
              "      <th>Name</th>\n",
              "      <th></th>\n",
              "      <th></th>\n",
              "      <th></th>\n",
              "      <th></th>\n",
              "      <th></th>\n",
              "      <th></th>\n",
              "      <th></th>\n",
              "      <th></th>\n",
              "    </tr>\n",
              "  </thead>\n",
              "  <tbody>\n",
              "    <tr>\n",
              "      <th>AAPL</th>\n",
              "      <td>1259.0</td>\n",
              "      <td>3.868542e+07</td>\n",
              "      <td>1.918570e+07</td>\n",
              "      <td>11475900.0</td>\n",
              "      <td>25593100.0</td>\n",
              "      <td>33710400.0</td>\n",
              "      <td>46728850.0</td>\n",
              "      <td>189846300.0</td>\n",
              "    </tr>\n",
              "    <tr>\n",
              "      <th>FB</th>\n",
              "      <td>1259.0</td>\n",
              "      <td>2.487157e+07</td>\n",
              "      <td>1.503188e+07</td>\n",
              "      <td>5913100.0</td>\n",
              "      <td>15641900.0</td>\n",
              "      <td>20863900.0</td>\n",
              "      <td>28834400.0</td>\n",
              "      <td>169803700.0</td>\n",
              "    </tr>\n",
              "    <tr>\n",
              "      <th>NFLX</th>\n",
              "      <td>1259.0</td>\n",
              "      <td>1.079440e+07</td>\n",
              "      <td>8.516244e+06</td>\n",
              "      <td>866300.0</td>\n",
              "      <td>5391800.0</td>\n",
              "      <td>8797300.0</td>\n",
              "      <td>13807300.0</td>\n",
              "      <td>92304800.0</td>\n",
              "    </tr>\n",
              "    <tr>\n",
              "      <th>TSLA</th>\n",
              "      <td>1259.0</td>\n",
              "      <td>6.348563e+06</td>\n",
              "      <td>3.966202e+06</td>\n",
              "      <td>710300.0</td>\n",
              "      <td>3829450.0</td>\n",
              "      <td>5287500.0</td>\n",
              "      <td>7483800.0</td>\n",
              "      <td>33649700.0</td>\n",
              "    </tr>\n",
              "    <tr>\n",
              "      <th>AMZN</th>\n",
              "      <td>1259.0</td>\n",
              "      <td>4.259942e+06</td>\n",
              "      <td>2.329843e+06</td>\n",
              "      <td>1093000.0</td>\n",
              "      <td>2771800.0</td>\n",
              "      <td>3639200.0</td>\n",
              "      <td>4928000.0</td>\n",
              "      <td>23856100.0</td>\n",
              "    </tr>\n",
              "    <tr>\n",
              "      <th>GOOG</th>\n",
              "      <td>1259.0</td>\n",
              "      <td>1.750030e+06</td>\n",
              "      <td>8.583718e+05</td>\n",
              "      <td>527200.0</td>\n",
              "      <td>1243950.0</td>\n",
              "      <td>1531300.0</td>\n",
              "      <td>1994450.0</td>\n",
              "      <td>11164900.0</td>\n",
              "    </tr>\n",
              "  </tbody>\n",
              "</table>\n",
              "</div>"
            ],
            "text/plain": [
              "       count          mean           std  ...         50%         75%          max\n",
              "Name                                      ...                                     \n",
              "AAPL  1259.0  3.868542e+07  1.918570e+07  ...  33710400.0  46728850.0  189846300.0\n",
              "FB    1259.0  2.487157e+07  1.503188e+07  ...  20863900.0  28834400.0  169803700.0\n",
              "NFLX  1259.0  1.079440e+07  8.516244e+06  ...   8797300.0  13807300.0   92304800.0\n",
              "TSLA  1259.0  6.348563e+06  3.966202e+06  ...   5287500.0   7483800.0   33649700.0\n",
              "AMZN  1259.0  4.259942e+06  2.329843e+06  ...   3639200.0   4928000.0   23856100.0\n",
              "GOOG  1259.0  1.750030e+06  8.583718e+05  ...   1531300.0   1994450.0   11164900.0\n",
              "\n",
              "[6 rows x 8 columns]"
            ]
          },
          "metadata": {
            "tags": []
          },
          "execution_count": 89
        }
      ]
    },
    {
      "cell_type": "markdown",
      "metadata": {
        "id": "lPjo1TId3jbh",
        "colab_type": "text"
      },
      "source": [
        "\n",
        "\n",
        "> We can observe that APPLE has the highest volume mean as well as the maximum volumes sold  in all 6 companies.\n",
        "\n",
        "\n"
      ]
    },
    {
      "cell_type": "markdown",
      "metadata": {
        "id": "HFGe3drp5wb1",
        "colab_type": "text"
      },
      "source": [
        "#**DATA PREPARATION**\n",
        "\n",
        "---\n",
        "\n"
      ]
    },
    {
      "cell_type": "code",
      "metadata": {
        "id": "-8hoAndn4aKm",
        "colab_type": "code",
        "colab": {
          "base_uri": "https://localhost:8080/",
          "height": 0
        },
        "outputId": "6a83ab95-b170-4a9b-d1d5-a317add472d6"
      },
      "source": [
        "df.isnull().sum()"
      ],
      "execution_count": 90,
      "outputs": [
        {
          "output_type": "execute_result",
          "data": {
            "text/plain": [
              "Date         0\n",
              "Open         0\n",
              "High         0\n",
              "Low          0\n",
              "Close        0\n",
              "Adj Close    0\n",
              "Volume       0\n",
              "Name         0\n",
              "dtype: int64"
            ]
          },
          "metadata": {
            "tags": []
          },
          "execution_count": 90
        }
      ]
    },
    {
      "cell_type": "markdown",
      "metadata": {
        "id": "f5p2Pcy76JoL",
        "colab_type": "text"
      },
      "source": [
        "\n",
        "\n",
        "> It is clear that there are no null values hence we are able to proceed further.\n",
        "\n"
      ]
    },
    {
      "cell_type": "markdown",
      "metadata": {
        "id": "-p53gc3w6oUA",
        "colab_type": "text"
      },
      "source": [
        "#**UNIVARIATE ANALYSIS**\n",
        "\n",
        "---\n",
        "\n"
      ]
    },
    {
      "cell_type": "markdown",
      "metadata": {
        "id": "4lxsYHHo-CD4",
        "colab_type": "text"
      },
      "source": [
        "\n",
        "\n",
        "\n",
        "> ## DATE\n",
        "\n",
        "\n"
      ]
    },
    {
      "cell_type": "code",
      "metadata": {
        "id": "sgjAavIt6u5c",
        "colab_type": "code",
        "colab": {}
      },
      "source": [
        "from datetime import datetime\n",
        "Start_Date = '23-06-2014'\n",
        "End_Date = '21-06-2019'\n",
        "Start_Date = datetime.strptime(Start_Date, '%d-%m-%Y')\n",
        "End_Date= datetime.strptime(End_Date, '%d-%m-%Y')\n"
      ],
      "execution_count": 0,
      "outputs": []
    },
    {
      "cell_type": "code",
      "metadata": {
        "id": "5MOnL41ADRIH",
        "colab_type": "code",
        "colab": {
          "base_uri": "https://localhost:8080/",
          "height": 128
        },
        "outputId": "f52b37cd-27d7-4f35-e4d3-adc29d2be11f"
      },
      "source": [
        "Diff_Months = \n",
        "Diff_Months=Diff_Months.astype(int)\n",
        "print( Diff_Months)"
      ],
      "execution_count": 92,
      "outputs": [
        {
          "output_type": "error",
          "ename": "SyntaxError",
          "evalue": "ignored",
          "traceback": [
            "\u001b[0;36m  File \u001b[0;32m\"<ipython-input-92-db3a277f5ec8>\"\u001b[0;36m, line \u001b[0;32m1\u001b[0m\n\u001b[0;31m    Diff_Months =\u001b[0m\n\u001b[0m                  ^\u001b[0m\n\u001b[0;31mSyntaxError\u001b[0m\u001b[0;31m:\u001b[0m invalid syntax\n"
          ]
        }
      ]
    },
    {
      "cell_type": "markdown",
      "metadata": {
        "id": "yI8NIHIrGzBo",
        "colab_type": "text"
      },
      "source": [
        ">## OPEN\n",
        "\n",
        "\n",
        "\n",
        "\n",
        "\n",
        "\n",
        "\n",
        "\n"
      ]
    },
    {
      "cell_type": "code",
      "metadata": {
        "id": "Pa57GgsZGymX",
        "colab_type": "code",
        "colab": {}
      },
      "source": [
        "sns.set_style(\"dark\")\n",
        "\n",
        "plt.subplot(3,3,1)\n",
        "sns.boxplot(df_amazon.Open,orient=\"v\")\n",
        "plt.title(\"AMAZON\")\n",
        "\n",
        "plt.subplot(3, 3, 2)\n",
        "plt.title('APPLE')\n",
        "sns.boxplot(df_apple['Open'],orient=\"v\")\n",
        "\n",
        "plt.subplot(3, 3, 3)\n",
        "plt.title('GOOGLE')\n",
        "sns.boxplot(df_google['Open'],orient=\"v\")\n",
        "\n",
        "plt.subplot(3, 3, 4)\n",
        "plt.title('FACEBOOK')\n",
        "sns.boxplot(df_facebook['Open'],orient=\"v\")\n",
        "\n",
        "plt.subplot(3, 3, 5)\n",
        "plt.title('NETFLIX')\n",
        "sns.boxplot(df_netflix['Open'],orient=\"v\")\n",
        "\n",
        "plt.subplot(3, 3, 6)\n",
        "plt.title('TESLA')\n",
        "sns.boxplot(df_tesla['Open'],orient=\"v\")\n",
        "\n",
        "plt.tight_layout()\n",
        "plt.show()"
      ],
      "execution_count": 0,
      "outputs": []
    },
    {
      "cell_type": "markdown",
      "metadata": {
        "id": "efT0gvB_jE3V",
        "colab_type": "text"
      },
      "source": [
        "\n",
        "\n",
        "> ## CLOSE\n",
        "\n"
      ]
    },
    {
      "cell_type": "code",
      "metadata": {
        "id": "9Mc1QwGGjJd7",
        "colab_type": "code",
        "colab": {}
      },
      "source": [
        "sns.set_style(\"dark\")\n",
        "\n",
        "plt.subplot(3,3,1)\n",
        "sns.boxplot(df_amazon.Close,orient=\"v\")\n",
        "plt.title(\"AMAZON\")\n",
        "\n",
        "plt.subplot(3, 3, 2)\n",
        "plt.title('APPLE')\n",
        "sns.boxplot(df_apple['Close'],orient=\"v\")\n",
        "\n",
        "plt.subplot(3, 3, 3)\n",
        "plt.title('GOOGLE')\n",
        "sns.boxplot(df_google['Close'],orient=\"v\")\n",
        "\n",
        "plt.subplot(3, 3, 4)\n",
        "plt.title('FACEBOOK')\n",
        "sns.boxplot(df_facebook['Close'],orient=\"v\")\n",
        "\n",
        "plt.subplot(3, 3, 5)\n",
        "plt.title('NETFLIX')\n",
        "sns.boxplot(df_netflix['Close'],orient=\"v\")\n",
        "\n",
        "plt.subplot(3, 3, 6)\n",
        "plt.title('TESLA')\n",
        "sns.boxplot(df_tesla['Close'],orient=\"v\")\n",
        "\n",
        "plt.tight_layout()"
      ],
      "execution_count": 0,
      "outputs": []
    },
    {
      "cell_type": "markdown",
      "metadata": {
        "id": "tDzymRQXkqsX",
        "colab_type": "text"
      },
      "source": [
        "\n",
        "\n",
        "> ## HIGH\n",
        "\n"
      ]
    },
    {
      "cell_type": "code",
      "metadata": {
        "id": "_9fDbzekkuAp",
        "colab_type": "code",
        "colab": {}
      },
      "source": [
        "sns.set_style(\"dark\")\n",
        "\n",
        "plt.subplot(3,3,1)\n",
        "sns.boxplot(df_amazon.High,orient=\"v\")\n",
        "plt.title(\"AMAZON\")\n",
        "\n",
        "plt.subplot(3, 3, 2)\n",
        "plt.title('APPLE')\n",
        "sns.boxplot(df_apple['High'],orient=\"v\")\n",
        "\n",
        "plt.subplot(3, 3, 3)\n",
        "plt.title('GOOGLE')\n",
        "sns.boxplot(df_google['High'],orient=\"v\")\n",
        "\n",
        "plt.subplot(3, 3, 4)\n",
        "plt.title('FACEBOOK')\n",
        "sns.boxplot(df_facebook['High'],orient=\"v\")\n",
        "\n",
        "plt.subplot(3, 3, 5)\n",
        "plt.title('NETFLIX')\n",
        "sns.boxplot(df_netflix['High'],orient=\"v\")\n",
        "\n",
        "plt.subplot(3, 3, 6)\n",
        "plt.title('TESLA')\n",
        "sns.boxplot(df_tesla['High'],orient=\"v\")\n",
        "\n",
        "plt.tight_layout()"
      ],
      "execution_count": 0,
      "outputs": []
    },
    {
      "cell_type": "markdown",
      "metadata": {
        "id": "jKCojpIflhJH",
        "colab_type": "text"
      },
      "source": [
        "\n",
        "\n",
        "> ## LOW\n",
        "\n"
      ]
    },
    {
      "cell_type": "code",
      "metadata": {
        "id": "nFkN28eKlkAc",
        "colab_type": "code",
        "colab": {}
      },
      "source": [
        "sns.set_style(\"dark\")\n",
        "\n",
        "plt.subplot(3,3,1)\n",
        "sns.boxplot(df_amazon.Low,orient=\"v\")\n",
        "plt.title(\"AMAZON\")\n",
        "\n",
        "plt.subplot(3, 3, 2)\n",
        "plt.title('APPLE')\n",
        "sns.boxplot(df_apple['Low'],orient=\"v\")\n",
        "\n",
        "plt.subplot(3, 3, 3)\n",
        "plt.title('GOOGLE')\n",
        "sns.boxplot(df_google['Low'],orient=\"v\")\n",
        "\n",
        "plt.subplot(3, 3, 4)\n",
        "plt.title('FACEBOOK')\n",
        "sns.boxplot(df_facebook['Low'],orient=\"v\")\n",
        "\n",
        "plt.subplot(3, 3, 5)\n",
        "plt.title('NETFLIX')\n",
        "sns.boxplot(df_netflix['Low'],orient=\"v\")\n",
        "\n",
        "plt.subplot(3, 3, 6)\n",
        "plt.title('TESLA')\n",
        "sns.boxplot(df_tesla['Low'],orient=\"v\")\n",
        "\n",
        "plt.tight_layout()"
      ],
      "execution_count": 0,
      "outputs": []
    },
    {
      "cell_type": "markdown",
      "metadata": {
        "id": "R8vwjZNDlwcU",
        "colab_type": "text"
      },
      "source": [
        "> ## VOLUME"
      ]
    },
    {
      "cell_type": "code",
      "metadata": {
        "id": "jvx0jJMslzXF",
        "colab_type": "code",
        "colab": {}
      },
      "source": [
        "sns.set_style(\"dark\")\n",
        "\n",
        "plt.subplot(3,3,1)\n",
        "sns.boxplot(df_amazon.Volume,orient=\"v\")\n",
        "plt.title(\"AMAZON\")\n",
        "\n",
        "plt.subplot(3, 3, 2)\n",
        "plt.title('APPLE')\n",
        "sns.boxplot(df_apple['Volume'],orient=\"v\")\n",
        "\n",
        "plt.subplot(3, 3, 3)\n",
        "plt.title('GOOGLE')\n",
        "sns.boxplot(df_google['Volume'],orient=\"v\")\n",
        "\n",
        "plt.subplot(3, 3, 4)\n",
        "plt.title('FACEBOOK')\n",
        "sns.boxplot(df_facebook['Volume'],orient=\"v\")\n",
        "\n",
        "plt.subplot(3, 3, 5)\n",
        "plt.title('NETFLIX')\n",
        "sns.boxplot(df_netflix['Open'],orient=\"v\")\n",
        "\n",
        "plt.subplot(3, 3, 6)\n",
        "plt.title('TESLA')\n",
        "sns.boxplot(df_tesla['Open'],orient=\"v\")\n",
        "\n",
        "plt.tight_layout()"
      ],
      "execution_count": 0,
      "outputs": []
    },
    {
      "cell_type": "markdown",
      "metadata": {
        "id": "gdSVBEPAma9R",
        "colab_type": "text"
      },
      "source": [
        "#**BIVARIATE ANALYSIS**\n",
        "\n",
        "---\n",
        "\n"
      ]
    },
    {
      "cell_type": "code",
      "metadata": {
        "id": "ROM1Cez7GNRU",
        "colab_type": "code",
        "colab": {}
      },
      "source": [
        "plt.figure(figsize=(20,10))\n",
        "sns.heatmap(df.corr(),annot=True,linewidth=1,vmin=-1,vmax=1)"
      ],
      "execution_count": 0,
      "outputs": []
    },
    {
      "cell_type": "markdown",
      "metadata": {
        "id": "gVhvmHVLGerm",
        "colab_type": "text"
      },
      "source": [
        "The heat map doesnt make much sense in Stock Price but shows that the volumes sold depends on other factors."
      ]
    },
    {
      "cell_type": "code",
      "metadata": {
        "id": "pzc5RM8AGttM",
        "colab_type": "code",
        "colab": {}
      },
      "source": [
        "plt.figure(figsize=(1,1))\n",
        "sns.pairplot(df)"
      ],
      "execution_count": 0,
      "outputs": []
    },
    {
      "cell_type": "markdown",
      "metadata": {
        "id": "WkpkWPGXImJK",
        "colab_type": "text"
      },
      "source": [
        "\n",
        "\n",
        "> ## OPEN VS DATE  \n",
        "\n"
      ]
    },
    {
      "cell_type": "code",
      "metadata": {
        "id": "HbqrrDyhG--3",
        "colab_type": "code",
        "colab": {}
      },
      "source": [
        "plt.figure(figsize=(20, 10))\n",
        "sns.lineplot(x=\"Date\", y=\"Open\",hue=\"Name\", data=df)"
      ],
      "execution_count": 0,
      "outputs": []
    },
    {
      "cell_type": "markdown",
      "metadata": {
        "id": "AtDpcP39Nedz",
        "colab_type": "text"
      },
      "source": [
        "as the plot is not clear for such a long time so we will look at it for last one year."
      ]
    },
    {
      "cell_type": "code",
      "metadata": {
        "id": "-5josJNUNkmE",
        "colab_type": "code",
        "colab": {}
      },
      "source": [
        "start_date = '20-06-2018'\n",
        "end_date = '21-06-2019'\n",
        "df_year = df.loc[(df['Date'] > start_date) & (df['Date'] <= end_date)]\n",
        "plt.figure(figsize=(25, 10))\n",
        "sns.lineplot(x=\"Date\", y=\"Open\",hue=\"Name\", data=df_year)"
      ],
      "execution_count": 0,
      "outputs": []
    },
    {
      "cell_type": "markdown",
      "metadata": {
        "id": "feLjt-LMQnrG",
        "colab_type": "text"
      },
      "source": [
        "We can observe that Amazon and Google had the highest value of openings."
      ]
    },
    {
      "cell_type": "markdown",
      "metadata": {
        "id": "2EshJGaERaMh",
        "colab_type": "text"
      },
      "source": [
        "> ## CLOSE VS DATE"
      ]
    },
    {
      "cell_type": "code",
      "metadata": {
        "id": "LNUyVbr5Qe9z",
        "colab_type": "code",
        "colab": {}
      },
      "source": [
        "start_date = '20-06-2018'\n",
        "end_date = '21-06-2019'\n",
        "df_year = df.loc[(df['Date'] > start_date) & (df['Date'] <= end_date)]\n",
        "plt.figure(figsize=(25, 10))\n",
        "plt.grid(True)\n",
        "sns.lineplot(x=\"Date\", y=\"Close\",hue=\"Name\", data=df_year)"
      ],
      "execution_count": 0,
      "outputs": []
    },
    {
      "cell_type": "markdown",
      "metadata": {
        "id": "De4xFfQIQ8Qa",
        "colab_type": "text"
      },
      "source": [
        "Facebook , Netflix and Apple had lower closing than the rest of them"
      ]
    },
    {
      "cell_type": "markdown",
      "metadata": {
        "id": "TZuRN_QVRmz2",
        "colab_type": "text"
      },
      "source": [
        "> ## HIGH VS DATE"
      ]
    },
    {
      "cell_type": "code",
      "metadata": {
        "id": "Ocsp792DRFrD",
        "colab_type": "code",
        "colab": {}
      },
      "source": [
        "start_date = '20-06-2018'\n",
        "end_date = '21-06-2019'\n",
        "df_year = df.loc[(df['Date'] > start_date) & (df['Date'] <= end_date)]\n",
        "plt.figure(figsize=(25, 10))\n",
        "plt.grid(True)\n",
        "sns.lineplot(x=\"Date\", y=\"High\",hue=\"Name\", data=df_year)"
      ],
      "execution_count": 0,
      "outputs": []
    },
    {
      "cell_type": "markdown",
      "metadata": {
        "id": "zk0ZYCzWSJRM",
        "colab_type": "text"
      },
      "source": [
        "> ## LOW VS DATE"
      ]
    },
    {
      "cell_type": "code",
      "metadata": {
        "id": "H_nBvD08SMaN",
        "colab_type": "code",
        "colab": {}
      },
      "source": [
        "start_date = '20-06-2018'\n",
        "end_date = '21-06-2019'\n",
        "df_year = df.loc[(df['Date'] > start_date) & (df['Date'] <= end_date)]\n",
        "plt.figure(figsize=(25, 10))\n",
        "plt.grid(True)\n",
        "sns.lineplot(x=\"Date\", y=\"Low\",hue=\"Name\", data=df_year)"
      ],
      "execution_count": 0,
      "outputs": []
    },
    {
      "cell_type": "markdown",
      "metadata": {
        "id": "UeVlOjL6SUvm",
        "colab_type": "text"
      },
      "source": [
        "> ## VOLUME VS DATE"
      ]
    },
    {
      "cell_type": "code",
      "metadata": {
        "id": "fqZH6_pPSS5k",
        "colab_type": "code",
        "colab": {}
      },
      "source": [
        "start_date = '20-06-2018'\n",
        "end_date = '21-06-2019'\n",
        "df_year = df.loc[(df['Date'] > start_date) & (df['Date'] <= end_date)]\n",
        "plt.figure(figsize=(25, 8))\n",
        "plt.grid(True)\n",
        "sns.lineplot(x=\"Date\", y=\"Volume\",hue=\"Name\", data=df_year)"
      ],
      "execution_count": 0,
      "outputs": []
    },
    {
      "cell_type": "markdown",
      "metadata": {
        "id": "V-D8EUo-SgLX",
        "colab_type": "text"
      },
      "source": [
        "We can see that Facebook sold the highest volume share "
      ]
    },
    {
      "cell_type": "markdown",
      "metadata": {
        "id": "p6MwaimKQD4Z",
        "colab_type": "text"
      },
      "source": [
        " # MULTIVARIATE ANALYSIS\n",
        "\n",
        "---\n",
        "\n",
        "\n",
        "\n",
        "\n"
      ]
    },
    {
      "cell_type": "code",
      "metadata": {
        "id": "4v6yFgXkVv8I",
        "colab_type": "code",
        "colab": {}
      },
      "source": [
        "pip install https://github.com/matplotlib/mpl_finance/archive/master.zip"
      ],
      "execution_count": 0,
      "outputs": []
    },
    {
      "cell_type": "code",
      "metadata": {
        "id": "jqUpwGq0d72b",
        "colab_type": "code",
        "colab": {}
      },
      "source": [
        "import datetime as dt\n",
        "import matplotlib.dates as mdates\n",
        "import matplotlib.pyplot as plt\n",
        "import pandas_datareader as web\n",
        "from mpl_finance import candlestick_ohlc"
      ],
      "execution_count": 0,
      "outputs": []
    },
    {
      "cell_type": "markdown",
      "metadata": {
        "id": "GPUMhVB3afwY",
        "colab_type": "text"
      },
      "source": [
        "> ## APPLE"
      ]
    },
    {
      "cell_type": "code",
      "metadata": {
        "id": "xSFvjqNeQMQ-",
        "colab_type": "code",
        "colab": {
          "base_uri": "https://localhost:8080/",
          "height": 286
        },
        "outputId": "e68c180f-71c6-4705-8d45-a1e678e2cbc6"
      },
      "source": [
        "start = dt.datetime(2018,1,1)\n",
        "end = dt.datetime(2019,1,1)\n",
        "df_apple2 = web.DataReader('AAPL', 'yahoo', start, end)\n",
        "df_apple2 = df_apple2[['Open', 'High', 'Low', 'Close']]\n",
        "df_apple2.reset_index(inplace=True)\n",
        "df_apple2['Date'] = df_apple2['Date'].map(mdates.date2num)\n",
        "ax = plt.subplot(1,1,1)\n",
        "candlestick_ohlc(ax, df_apple2.values, width=2, colorup='g', colordown='r')\n",
        "ax.xaxis_date()\n",
        "ax.grid(True)\n",
        "plt.figure(figsize=(25,10))\n",
        "plt.show()"
      ],
      "execution_count": 94,
      "outputs": [
        {
          "output_type": "display_data",
          "data": {
            "image/png": "[encoded data removed]",
            "text/plain": [
              "<Figure size 432x288 with 1 Axes>"
            ]
          },
          "metadata": {
            "tags": []
          }
        },
        {
          "output_type": "display_data",
          "data": {
            "text/plain": [
              "<Figure size 1800x720 with 0 Axes>"
            ]
          },
          "metadata": {
            "tags": []
          }
        }
      ]
    },
    {
      "cell_type": "markdown",
      "metadata": {
        "id": "guJEDXMuardp",
        "colab_type": "text"
      },
      "source": [
        "> ## AMAZON"
      ]
    },
    {
      "cell_type": "code",
      "metadata": {
        "id": "bq73d_C1aqqi",
        "colab_type": "code",
        "colab": {
          "base_uri": "https://localhost:8080/",
          "height": 286
        },
        "outputId": "30f9fa82-5f4d-4e18-e8ab-84216c98925c"
      },
      "source": [
        "df_amazon2 = web.DataReader('AMZN', 'yahoo', start, end)\n",
        "df_amazon2 = df_amazon2[['Open', 'High', 'Low', 'Close']]\n",
        "df_amazon2.reset_index(inplace=True)\n",
        "df_amazon2['Date'] = df_amazon2['Date'].map(mdates.date2num)\n",
        "ax = plt.subplot(1,1,1)\n",
        "candlestick_ohlc(ax, df_amazon2.values, width=2, colorup='g', colordown='r')\n",
        "ax.xaxis_date()\n",
        "ax.grid(True)\n",
        "plt.figure(figsize=(25,10))\n",
        "plt.show()"
      ],
      "execution_count": 97,
      "outputs": [
        {
          "output_type": "display_data",
          "data": {
            "image/png": "[encoded data removed]",
            "text/plain": [
              "<Figure size 432x288 with 1 Axes>"
            ]
          },
          "metadata": {
            "tags": []
          }
        },
        {
          "output_type": "display_data",
          "data": {
            "text/plain": [
              "<Figure size 1800x720 with 0 Axes>"
            ]
          },
          "metadata": {
            "tags": []
          }
        }
      ]
    },
    {
      "cell_type": "markdown",
      "metadata": {
        "id": "datTLcqtbqCN",
        "colab_type": "text"
      },
      "source": [
        "> ## FACEBOOK"
      ]
    },
    {
      "cell_type": "code",
      "metadata": {
        "id": "21iUscSYbymF",
        "colab_type": "code",
        "colab": {
          "base_uri": "https://localhost:8080/",
          "height": 286
        },
        "outputId": "f2cccdca-e1c6-40b3-f6c5-48557be419a3"
      },
      "source": [
        "df_fb = web.DataReader('FB', 'yahoo', start, end)\n",
        "df_fb = df_fb[['Open', 'High', 'Low', 'Close']]\n",
        "df_fb.reset_index(inplace=True)\n",
        "df_fb['Date'] = df_fb['Date'].map(mdates.date2num)\n",
        "ax = plt.subplot(1,1,1)\n",
        "candlestick_ohlc(ax, df_fb.values, width=2, colorup='g', colordown='r')\n",
        "ax.xaxis_date()\n",
        "ax.grid(True)\n",
        "plt.figure(figsize=(25,10))\n",
        "plt.show()"
      ],
      "execution_count": 99,
      "outputs": [
        {
          "output_type": "display_data",
          "data": {
            "image/png": "[encoded data removed]",
            "text/plain": [
              "<Figure size 432x288 with 1 Axes>"
            ]
          },
          "metadata": {
            "tags": []
          }
        },
        {
          "output_type": "display_data",
          "data": {
            "text/plain": [
              "<Figure size 1800x720 with 0 Axes>"
            ]
          },
          "metadata": {
            "tags": []
          }
        }
      ]
    },
    {
      "cell_type": "markdown",
      "metadata": {
        "id": "FrPMeNxVcB0Y",
        "colab_type": "text"
      },
      "source": [
        "> ## GOOGLE"
      ]
    },
    {
      "cell_type": "code",
      "metadata": {
        "id": "XjxHXgj3cDcH",
        "colab_type": "code",
        "colab": {}
      },
      "source": [
        "df_google2 = web.DataReader('GOOG', 'yahoo', start, end)\n",
        "df_google2 = df_google2[['Open', 'High', 'Low', 'Close']]\n",
        "df_google2.reset_index(inplace=True)\n",
        "df_google2['Date'] = df_google2['Date'].map(mdates.date2num)\n",
        "ax = plt.subplot(1,1,1)\n",
        "candlestick_ohlc(ax, df_google2.values, width=2, colorup='g', colordown='r')\n",
        "ax.xaxis_date()\n",
        "ax.grid(True)\n",
        "plt.figure(figsize=(25,10))\n",
        "plt.show()"
      ],
      "execution_count": 0,
      "outputs": []
    },
    {
      "cell_type": "markdown",
      "metadata": {
        "id": "nH1FAcajc3Bc",
        "colab_type": "text"
      },
      "source": [
        "> ## NETFLIX"
      ]
    },
    {
      "cell_type": "code",
      "metadata": {
        "id": "peD32AM3c6E6",
        "colab_type": "code",
        "colab": {
          "base_uri": "https://localhost:8080/",
          "height": 286
        },
        "outputId": "94e0c37a-d7dd-4be5-b10a-3999af9565e3"
      },
      "source": [
        "df_netflix2 = web.DataReader('NFLX', 'yahoo', start, end)\n",
        "df_netflix2 = df_netflix2[['Open', 'High', 'Low', 'Close']]\n",
        "df_netflix2.reset_index(inplace=True)\n",
        "df_netflix2['Date'] = df_netflix2['Date'].map(mdates.date2num)\n",
        "ax = plt.subplot(1,1,1)\n",
        "candlestick_ohlc(ax, df_netflix2.values, width=2, colorup='g', colordown='r')\n",
        "ax.xaxis_date()\n",
        "ax.grid(True)\n",
        "plt.figure(figsize=(25,10))\n",
        "plt.show()"
      ],
      "execution_count": 100,
      "outputs": [
        {
          "output_type": "display_data",
          "data": {
            "image/png": "[encoded data removed]",
            "text/plain": [
              "<Figure size 432x288 with 1 Axes>"
            ]
          },
          "metadata": {
            "tags": []
          }
        },
        {
          "output_type": "display_data",
          "data": {
            "text/plain": [
              "<Figure size 1800x720 with 0 Axes>"
            ]
          },
          "metadata": {
            "tags": []
          }
        }
      ]
    },
    {
      "cell_type": "markdown",
      "metadata": {
        "id": "7T-YMHyMdnpE",
        "colab_type": "text"
      },
      "source": [
        "> ## TESLA"
      ]
    },
    {
      "cell_type": "code",
      "metadata": {
        "id": "rZVEs4yMdpXW",
        "colab_type": "code",
        "colab": {
          "base_uri": "https://localhost:8080/",
          "height": 286
        },
        "outputId": "295ac20d-f387-4aa4-9615-a198900c1dab"
      },
      "source": [
        "df_tesla2 = web.DataReader('AMZN', 'yahoo', start, end)\n",
        "df_tesla2 = df_tesla2[['Open', 'High', 'Low', 'Close']]\n",
        "df_tesla2.reset_index(inplace=True)\n",
        "df_tesla2['Date'] = df_tesla2['Date'].map(mdates.date2num)\n",
        "ax = plt.subplot(1,1,1)\n",
        "candlestick_ohlc(ax, df_tesla2.values, width=2, colorup='g', colordown='r')\n",
        "ax.xaxis_date()\n",
        "ax.grid(True)\n",
        "plt.figure(figsize=(25,10))\n",
        "plt.show()"
      ],
      "execution_count": 101,
      "outputs": [
        {
          "output_type": "display_data",
          "data": {
            "image/png": "[encoded data removed]",
            "text/plain": [
              "<Figure size 432x288 with 1 Axes>"
            ]
          },
          "metadata": {
            "tags": []
          }
        },
        {
          "output_type": "display_data",
          "data": {
            "text/plain": [
              "<Figure size 1800x720 with 0 Axes>"
            ]
          },
          "metadata": {
            "tags": []
          }
        }
      ]
    }
  ]
}